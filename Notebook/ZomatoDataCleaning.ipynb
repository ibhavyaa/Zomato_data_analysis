{
 "cells": [
  {
   "cell_type": "code",
   "execution_count": 1,
   "id": "df66024b-9770-4edb-b2e9-8b4262b50df8",
   "metadata": {},
   "outputs": [
    {
     "name": "stdout",
     "output_type": "stream",
     "text": [
      "<class 'pandas.core.frame.DataFrame'>\n",
      "RangeIndex: 51717 entries, 0 to 51716\n",
      "Data columns (total 17 columns):\n",
      " #   Column                       Non-Null Count  Dtype \n",
      "---  ------                       --------------  ----- \n",
      " 0   url                          51717 non-null  object\n",
      " 1   address                      51717 non-null  object\n",
      " 2   name                         51717 non-null  object\n",
      " 3   online_order                 51717 non-null  object\n",
      " 4   book_table                   51717 non-null  object\n",
      " 5   rate                         43942 non-null  object\n",
      " 6   votes                        51717 non-null  int64 \n",
      " 7   phone                        50509 non-null  object\n",
      " 8   location                     51696 non-null  object\n",
      " 9   rest_type                    51490 non-null  object\n",
      " 10  dish_liked                   23639 non-null  object\n",
      " 11  cuisines                     51672 non-null  object\n",
      " 12  approx_cost(for two people)  51371 non-null  object\n",
      " 13  reviews_list                 51717 non-null  object\n",
      " 14  menu_item                    51717 non-null  object\n",
      " 15  listed_in(type)              51717 non-null  object\n",
      " 16  listed_in(city)              51717 non-null  object\n",
      "dtypes: int64(1), object(16)\n",
      "memory usage: 6.7+ MB\n"
     ]
    }
   ],
   "source": [
    "import pandas as pd\n",
    "df = pd.read_csv('zomato.csv')\n",
    "df.info()"
   ]
  },
  {
   "cell_type": "code",
   "execution_count": 2,
   "id": "12c58c1a-4148-49f4-9882-5977bfee7a7f",
   "metadata": {},
   "outputs": [],
   "source": [
    "# Dropped unnecessary columns"
   ]
  },
  {
   "cell_type": "code",
   "execution_count": 3,
   "id": "8641697e-f64d-43fe-90c3-8554529741f4",
   "metadata": {},
   "outputs": [],
   "source": [
    "df.drop('url',axis=1,inplace=True)\n",
    "df.drop('address',axis=1,inplace=True)\n",
    "df.drop('reviews_list',axis=1,inplace=True)\n",
    "df.drop('phone',axis=1,inplace=True)"
   ]
  },
  {
   "cell_type": "code",
   "execution_count": 4,
   "id": "a7f3e359-e839-4e0a-aa88-a807ea02c52e",
   "metadata": {},
   "outputs": [
    {
     "name": "stdout",
     "output_type": "stream",
     "text": [
      "<class 'pandas.core.frame.DataFrame'>\n",
      "RangeIndex: 51717 entries, 0 to 51716\n",
      "Data columns (total 13 columns):\n",
      " #   Column                       Non-Null Count  Dtype \n",
      "---  ------                       --------------  ----- \n",
      " 0   name                         51717 non-null  object\n",
      " 1   online_order                 51717 non-null  object\n",
      " 2   book_table                   51717 non-null  object\n",
      " 3   rate                         43942 non-null  object\n",
      " 4   votes                        51717 non-null  int64 \n",
      " 5   location                     51696 non-null  object\n",
      " 6   rest_type                    51490 non-null  object\n",
      " 7   dish_liked                   23639 non-null  object\n",
      " 8   cuisines                     51672 non-null  object\n",
      " 9   approx_cost(for two people)  51371 non-null  object\n",
      " 10  menu_item                    51717 non-null  object\n",
      " 11  listed_in(type)              51717 non-null  object\n",
      " 12  listed_in(city)              51717 non-null  object\n",
      "dtypes: int64(1), object(12)\n",
      "memory usage: 5.1+ MB\n"
     ]
    }
   ],
   "source": [
    "df.info()"
   ]
  },
  {
   "cell_type": "code",
   "execution_count": 5,
   "id": "b1fe30ce-26ad-44c4-8b5d-c86979d08efc",
   "metadata": {},
   "outputs": [],
   "source": [
    "#Deleted Duplicates"
   ]
  },
  {
   "cell_type": "code",
   "execution_count": 6,
   "id": "f36e82e4-d31e-4c0f-a647-2e0d907be1ea",
   "metadata": {},
   "outputs": [],
   "source": [
    "df.drop_duplicates(inplace=True)"
   ]
  },
  {
   "cell_type": "code",
   "execution_count": 7,
   "id": "2bbeece6-3a2b-43b2-a62f-edf0978eaba0",
   "metadata": {},
   "outputs": [],
   "source": [
    "#Dropped Unnecessary Columns"
   ]
  },
  {
   "cell_type": "code",
   "execution_count": 8,
   "id": "03e7b7d4-6a8d-41a1-9b83-cc3c4219fb5c",
   "metadata": {},
   "outputs": [],
   "source": [
    "df.drop('dish_liked', axis = 1 , inplace = True)\n",
    "df.drop(columns=['listed_in(city)','menu_item'] , axis = 1 , inplace = True)\n",
    "df.drop('rest_type' , axis = 1 , inplace = True)"
   ]
  },
  {
   "cell_type": "code",
   "execution_count": 9,
   "id": "5eb7fb13-f6e4-4cbb-a1ed-0ecfb9fa75f4",
   "metadata": {},
   "outputs": [
    {
     "name": "stdout",
     "output_type": "stream",
     "text": [
      "<class 'pandas.core.frame.DataFrame'>\n",
      "Index: 51630 entries, 0 to 51716\n",
      "Data columns (total 9 columns):\n",
      " #   Column                       Non-Null Count  Dtype \n",
      "---  ------                       --------------  ----- \n",
      " 0   name                         51630 non-null  object\n",
      " 1   online_order                 51630 non-null  object\n",
      " 2   book_table                   51630 non-null  object\n",
      " 3   rate                         43871 non-null  object\n",
      " 4   votes                        51630 non-null  int64 \n",
      " 5   location                     51609 non-null  object\n",
      " 6   cuisines                     51585 non-null  object\n",
      " 7   approx_cost(for two people)  51286 non-null  object\n",
      " 8   listed_in(type)              51630 non-null  object\n",
      "dtypes: int64(1), object(8)\n",
      "memory usage: 3.9+ MB\n"
     ]
    }
   ],
   "source": [
    "df.info()"
   ]
  },
  {
   "cell_type": "code",
   "execution_count": 10,
   "id": "1b4b8e67-6cc9-4ea4-b313-9c6563c8cc2c",
   "metadata": {},
   "outputs": [],
   "source": [
    "#Renamed the columns"
   ]
  },
  {
   "cell_type": "code",
   "execution_count": 11,
   "id": "464691a4-741f-466f-82ec-26d5f812d837",
   "metadata": {},
   "outputs": [
    {
     "name": "stdout",
     "output_type": "stream",
     "text": [
      "<class 'pandas.core.frame.DataFrame'>\n",
      "Index: 51630 entries, 0 to 51716\n",
      "Data columns (total 9 columns):\n",
      " #   Column           Non-Null Count  Dtype \n",
      "---  ------           --------------  ----- \n",
      " 0   restaurant_name  51630 non-null  object\n",
      " 1   online_order     51630 non-null  object\n",
      " 2   book_table       51630 non-null  object\n",
      " 3   rating           43871 non-null  object\n",
      " 4   votes            51630 non-null  int64 \n",
      " 5   location         51609 non-null  object\n",
      " 6   cuisines         51585 non-null  object\n",
      " 7   cost_per_person  51286 non-null  object\n",
      " 8   restaurant_type  51630 non-null  object\n",
      "dtypes: int64(1), object(8)\n",
      "memory usage: 3.9+ MB\n"
     ]
    }
   ],
   "source": [
    "df.rename(columns={\"name\":\"restaurant_name\",\"rate\":\"rating\",\"approx_cost(for two people)\":\"cost_per_person\"}, inplace=True)\n",
    "df.rename(columns={\"listed_in(type)\": \"restaurant_type\"}, inplace=True)\n",
    "df.info()"
   ]
  },
  {
   "cell_type": "code",
   "execution_count": 12,
   "id": "2c9d8d3b-9e1c-4010-8a69-45b9c948e252",
   "metadata": {},
   "outputs": [],
   "source": [
    "#Deleted Null Values"
   ]
  },
  {
   "cell_type": "code",
   "execution_count": 13,
   "id": "47c36b7f-4baf-4f2c-a47c-27632fc4f1cc",
   "metadata": {},
   "outputs": [],
   "source": [
    "df.dropna(subset=['cuisines', 'cost_per_person'],inplace=True)"
   ]
  },
  {
   "cell_type": "code",
   "execution_count": 14,
   "id": "8a2fc72b-99aa-44f4-bd46-0a5ae252cafd",
   "metadata": {},
   "outputs": [
    {
     "name": "stdout",
     "output_type": "stream",
     "text": [
      "<class 'pandas.core.frame.DataFrame'>\n",
      "Index: 51267 entries, 0 to 51716\n",
      "Data columns (total 9 columns):\n",
      " #   Column           Non-Null Count  Dtype \n",
      "---  ------           --------------  ----- \n",
      " 0   restaurant_name  51267 non-null  object\n",
      " 1   online_order     51267 non-null  object\n",
      " 2   book_table       51267 non-null  object\n",
      " 3   rating           43613 non-null  object\n",
      " 4   votes            51267 non-null  int64 \n",
      " 5   location         51267 non-null  object\n",
      " 6   cuisines         51267 non-null  object\n",
      " 7   cost_per_person  51267 non-null  object\n",
      " 8   restaurant_type  51267 non-null  object\n",
      "dtypes: int64(1), object(8)\n",
      "memory usage: 3.9+ MB\n"
     ]
    }
   ],
   "source": [
    "df.info()"
   ]
  },
  {
   "cell_type": "code",
   "execution_count": 15,
   "id": "c4b04620-9909-41f4-9a73-723aab1a0e57",
   "metadata": {},
   "outputs": [],
   "source": [
    "#Changed Data Types"
   ]
  },
  {
   "cell_type": "code",
   "execution_count": 16,
   "id": "1c8e1a62-51bf-4e76-82b9-1973e9cd0125",
   "metadata": {},
   "outputs": [],
   "source": [
    "import pandas as pd\n",
    "import numpy as np\n",
    "def handlerate(value) :\n",
    "    if(value== 'NEW' or value=='-'):\n",
    "        return np.nan\n",
    "    else:\n",
    "        value = str(value).split('/')\n",
    "        value = value [0]\n",
    "        return float(value)\n",
    "\n",
    "df['rating'] = df['rating'].apply(handlerate)"
   ]
  },
  {
   "cell_type": "code",
   "execution_count": 17,
   "id": "a9c20721-c440-417d-b875-4134b2388209",
   "metadata": {},
   "outputs": [],
   "source": [
    "df['cost_per_person']=df['cost_per_person'].str.replace(',', '').astype(float)"
   ]
  },
  {
   "cell_type": "code",
   "execution_count": 18,
   "id": "cdbddf5f-efcb-41a8-b397-7a6ab947d288",
   "metadata": {},
   "outputs": [],
   "source": [
    "df['restaurant_name']=df['restaurant_name'].astype('string')\n",
    "df['online_order']=df['online_order'].astype('string')\n",
    "df['book_table']=df['book_table'].astype('string')\n",
    "df['location']=df['location'].astype('string')\n",
    "df['cuisines']=df['cuisines'].astype('string')\n",
    "df['restaurant_type']=df['restaurant_type'].astype('string')"
   ]
  },
  {
   "cell_type": "code",
   "execution_count": 19,
   "id": "17b99444-c68f-4648-91c2-6ab7b79379a5",
   "metadata": {},
   "outputs": [
    {
     "name": "stdout",
     "output_type": "stream",
     "text": [
      "<class 'pandas.core.frame.DataFrame'>\n",
      "Index: 51267 entries, 0 to 51716\n",
      "Data columns (total 9 columns):\n",
      " #   Column           Non-Null Count  Dtype  \n",
      "---  ------           --------------  -----  \n",
      " 0   restaurant_name  51267 non-null  string \n",
      " 1   online_order     51267 non-null  string \n",
      " 2   book_table       51267 non-null  string \n",
      " 3   rating           41352 non-null  float64\n",
      " 4   votes            51267 non-null  int64  \n",
      " 5   location         51267 non-null  string \n",
      " 6   cuisines         51267 non-null  string \n",
      " 7   cost_per_person  51267 non-null  float64\n",
      " 8   restaurant_type  51267 non-null  string \n",
      "dtypes: float64(2), int64(1), string(6)\n",
      "memory usage: 3.9 MB\n"
     ]
    }
   ],
   "source": [
    "df.info()"
   ]
  },
  {
   "cell_type": "code",
   "execution_count": 20,
   "id": "2898ef68-c202-4b32-a3a4-28458a8586ca",
   "metadata": {},
   "outputs": [],
   "source": [
    "#Changed the values of necessary columns"
   ]
  },
  {
   "cell_type": "code",
   "execution_count": 22,
   "id": "90fced22-00bf-4a9c-a0b6-3b853e37c371",
   "metadata": {},
   "outputs": [],
   "source": [
    "df['rating']=df['rating'].fillna(df['rating'].mean())"
   ]
  },
  {
   "cell_type": "code",
   "execution_count": 23,
   "id": "436f9759-57f7-4a34-8bbe-402768b754d6",
   "metadata": {},
   "outputs": [],
   "source": [
    "df['cost_per_person']=df['cost_per_person']/2"
   ]
  },
  {
   "cell_type": "code",
   "execution_count": 24,
   "id": "2de81961-013e-4c1d-a533-0196b9656560",
   "metadata": {},
   "outputs": [
    {
     "name": "stdout",
     "output_type": "stream",
     "text": [
      "<class 'pandas.core.frame.DataFrame'>\n",
      "Index: 51267 entries, 0 to 51716\n",
      "Data columns (total 9 columns):\n",
      " #   Column           Non-Null Count  Dtype  \n",
      "---  ------           --------------  -----  \n",
      " 0   restaurant_name  51267 non-null  string \n",
      " 1   online_order     51267 non-null  string \n",
      " 2   book_table       51267 non-null  string \n",
      " 3   rating           51267 non-null  float64\n",
      " 4   votes            51267 non-null  int64  \n",
      " 5   location         51267 non-null  string \n",
      " 6   cuisines         51267 non-null  string \n",
      " 7   cost_per_person  51267 non-null  float64\n",
      " 8   restaurant_type  51267 non-null  string \n",
      "dtypes: float64(2), int64(1), string(6)\n",
      "memory usage: 3.9 MB\n"
     ]
    }
   ],
   "source": [
    "df.info()"
   ]
  },
  {
   "cell_type": "code",
   "execution_count": 27,
   "id": "390ea75c-6cfc-4aa6-a67a-e97583b9eae5",
   "metadata": {},
   "outputs": [],
   "source": [
    "df.to_csv('zomato_clean_data.csv', index=False)"
   ]
  }
 ],
 "metadata": {
  "kernelspec": {
   "display_name": "Python 3 (ipykernel)",
   "language": "python",
   "name": "python3"
  },
  "language_info": {
   "codemirror_mode": {
    "name": "ipython",
    "version": 3
   },
   "file_extension": ".py",
   "mimetype": "text/x-python",
   "name": "python",
   "nbconvert_exporter": "python",
   "pygments_lexer": "ipython3",
   "version": "3.12.7"
  }
 },
 "nbformat": 4,
 "nbformat_minor": 5
}
